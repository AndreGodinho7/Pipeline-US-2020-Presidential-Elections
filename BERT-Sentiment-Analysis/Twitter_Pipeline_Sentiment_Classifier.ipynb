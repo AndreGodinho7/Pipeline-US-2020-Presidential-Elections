{
  "nbformat": 4,
  "nbformat_minor": 0,
  "metadata": {
    "kernelspec": {
      "display_name": "Python 3",
      "language": "python",
      "name": "python3"
    },
    "language_info": {
      "codemirror_mode": {
        "name": "ipython",
        "version": 3
      },
      "file_extension": ".py",
      "mimetype": "text/x-python",
      "name": "python",
      "nbconvert_exporter": "python",
      "pygments_lexer": "ipython3",
      "version": "3.7.4"
    },
    "colab": {
      "name": "Twitter Pipeline - Sentiment Classifier.ipynb",
      "provenance": [],
      "collapsed_sections": []
    },
    "accelerator": "GPU"
  },
  "cells": [
    {
      "cell_type": "markdown",
      "metadata": {
        "id": "jXFnH6wOKBv7",
        "colab_type": "text"
      },
      "source": [
        "# 2020 USA Presidential Election Twitter Pipeline - Sentiment Classifier "
      ]
    },
    {
      "cell_type": "markdown",
      "metadata": {
        "id": "WSVmR27GKBv9",
        "colab_type": "text"
      },
      "source": [
        "## Author: André Godinho\n",
        "\n",
        "LinkedIn: https://www.linkedin.com/in/andregodinho97/\n",
        "\n",
        "Github: https://github.com/AndreGodinho7"
      ]
    },
    {
      "cell_type": "markdown",
      "metadata": {
        "id": "waEVkuqjbe9F",
        "colab_type": "text"
      },
      "source": [
        "## 1. Install packages"
      ]
    },
    {
      "cell_type": "code",
      "metadata": {
        "id": "Z2bbXwgDba1m",
        "colab_type": "code",
        "colab": {}
      },
      "source": [
        "!pip install transformers==3.0.0\n",
        "!pip install torch\n",
        "!pip install pandas\n",
        "!pip install numpy \n",
        "!pip install matplotlib\n",
        "!pip install seaborn\n",
        "!pip install torch"
      ],
      "execution_count": null,
      "outputs": []
    },
    {
      "cell_type": "code",
      "metadata": {
        "id": "CXzXW3URdihR",
        "colab_type": "code",
        "colab": {
          "base_uri": "https://localhost:8080/",
          "height": 36
        },
        "outputId": "24e61228-38a7-4c53-dedd-15ae0b05bdee"
      },
      "source": [
        "from google.colab import drive\n",
        "drive.mount('/content/drive')"
      ],
      "execution_count": 1,
      "outputs": [
        {
          "output_type": "stream",
          "text": [
            "Mounted at /content/drive\n"
          ],
          "name": "stdout"
        }
      ]
    },
    {
      "cell_type": "code",
      "metadata": {
        "id": "vt4uc4GfWmYY",
        "colab_type": "code",
        "colab": {
          "base_uri": "https://localhost:8080/",
          "height": 36
        },
        "outputId": "92738b89-d345-4029-855a-1103ab307f88"
      },
      "source": [
        "%cd '/content/drive/My Drive/Colab Notebooks'"
      ],
      "execution_count": 8,
      "outputs": [
        {
          "output_type": "stream",
          "text": [
            "/content/drive/My Drive/Colab Notebooks\n"
          ],
          "name": "stdout"
        }
      ]
    },
    {
      "cell_type": "markdown",
      "metadata": {
        "id": "O1A9oMwUKBv-",
        "colab_type": "text"
      },
      "source": [
        "## 2. Imports"
      ]
    },
    {
      "cell_type": "code",
      "metadata": {
        "id": "ajyxNDXAKBv_",
        "colab_type": "code",
        "colab": {}
      },
      "source": [
        "from BERT import BERT\n",
        "from BERTFormatDataloader import BERTFormatDataloader\n",
        "from BERTSentimentClassifier import BERTSentimentClassifier\n",
        "from SentimentFineTuning import SentimentFineTuning\n",
        "\n",
        "from MyData import MyData\n",
        "from BERTFormatDataset import BERTFormatDataset\n",
        "\n",
        "import seaborn as sns\n",
        "import matplotlib.pyplot as plt\n",
        "import numpy as np\n",
        "from sklearn.model_selection import train_test_split\n",
        "from sklearn.metrics import confusion_matrix, classification_report\n",
        "import torch\n",
        "from torch import nn, optim\n",
        "import numpy as np\n",
        "from transformers import BertModel, BertTokenizer, AdamW, get_linear_schedule_with_warmup\n",
        "\n",
        "\n",
        "sns.set()"
      ],
      "execution_count": 57,
      "outputs": []
    },
    {
      "cell_type": "markdown",
      "metadata": {
        "id": "WXWJBox3KBwD",
        "colab_type": "text"
      },
      "source": [
        "## 3. Constants\n"
      ]
    },
    {
      "cell_type": "code",
      "metadata": {
        "id": "eSiMxQ1OKBwE",
        "colab_type": "code",
        "colab": {}
      },
      "source": [
        "RANDOM_SEED = 10\n",
        "MAX_LEN = 160\n",
        "BATCH_SIZE = 16\n",
        "n_GPU = 1\n",
        "EPOCHS = 10\n",
        "CLASSES = 3\n",
        "\n",
        "MODEL_NAME = 'reviews_bert_classifier'\n",
        "MODEL_PATH = '/content/drive/My Drive/Colab Notebooks/'+MODEL_NAME+'.bin'\n",
        "TRAIN_FLAG = True\n",
        "LOAD_MODEL = False"
      ],
      "execution_count": 29,
      "outputs": []
    },
    {
      "cell_type": "markdown",
      "metadata": {
        "id": "bKXqTtavKBwI",
        "colab_type": "text"
      },
      "source": [
        "## 4. Setup"
      ]
    },
    {
      "cell_type": "code",
      "metadata": {
        "id": "ZOaqbP_wKBwJ",
        "colab_type": "code",
        "colab": {
          "base_uri": "https://localhost:8080/",
          "height": 55
        },
        "outputId": "3eaedf67-48c7-421f-9fa4-97f5f3f9e6e7"
      },
      "source": [
        "np.random.seed(RANDOM_SEED)\n",
        "torch.manual_seed(RANDOM_SEED)\n",
        "\n",
        "# If there's a GPU available...\n",
        "if torch.cuda.is_available():    \n",
        "\n",
        "    # Tell PyTorch to use the GPU.    \n",
        "    device = torch.device(\"cuda\")\n",
        "\n",
        "    print('There are %d GPU(s) available.' % torch.cuda.device_count())\n",
        "\n",
        "    print('We will use the GPU:', torch.cuda.get_device_name(0))\n",
        "\n",
        "# If not...\n",
        "else:\n",
        "    print('No GPU available, using the CPU instead.')\n",
        "    device = torch.device(\"cpu\")"
      ],
      "execution_count": 20,
      "outputs": [
        {
          "output_type": "stream",
          "text": [
            "There are 1 GPU(s) available.\n",
            "We will use the GPU: Tesla T4\n"
          ],
          "name": "stdout"
        }
      ]
    },
    {
      "cell_type": "markdown",
      "metadata": {
        "id": "U3GLvoC9KBwM",
        "colab_type": "text"
      },
      "source": [
        "## 5. Load data"
      ]
    },
    {
      "cell_type": "code",
      "metadata": {
        "id": "fd9u791HKBwN",
        "colab_type": "code",
        "colab": {
          "base_uri": "https://localhost:8080/",
          "height": 378
        },
        "outputId": "e5e847f5-10cf-40cd-d0bb-8d0e2c3d82d8"
      },
      "source": [
        "data = MyData(\"data/sentiments.csv\")\n",
        "df_data = data.getData()\n",
        "df_data.info()"
      ],
      "execution_count": 6,
      "outputs": [
        {
          "output_type": "stream",
          "text": [
            "<class 'pandas.core.frame.DataFrame'>\n",
            "RangeIndex: 15746 entries, 0 to 15745\n",
            "Data columns (total 12 columns):\n",
            " #   Column                Non-Null Count  Dtype \n",
            "---  ------                --------------  ----- \n",
            " 0   userName              15746 non-null  object\n",
            " 1   userImage             15746 non-null  object\n",
            " 2   content               15746 non-null  object\n",
            " 3   score                 15746 non-null  int64 \n",
            " 4   thumbsUpCount         15746 non-null  int64 \n",
            " 5   reviewCreatedVersion  13533 non-null  object\n",
            " 6   at                    15746 non-null  object\n",
            " 7   replyContent          7367 non-null   object\n",
            " 8   repliedAt             7367 non-null   object\n",
            " 9   sortOrder             15746 non-null  object\n",
            " 10  appId                 15746 non-null  object\n",
            " 11  sentiment             15746 non-null  int64 \n",
            "dtypes: int64(3), object(9)\n",
            "memory usage: 1.4+ MB\n"
          ],
          "name": "stdout"
        }
      ]
    },
    {
      "cell_type": "code",
      "metadata": {
        "scrolled": true,
        "id": "QSwhWdTWKBwR",
        "colab_type": "code",
        "colab": {
          "base_uri": "https://localhost:8080/",
          "height": 417
        },
        "outputId": "f3988cf3-8d4c-42c4-f272-a0095a8c477b"
      },
      "source": [
        "df_data.head(3)"
      ],
      "execution_count": 7,
      "outputs": [
        {
          "output_type": "execute_result",
          "data": {
            "text/html": [
              "<div>\n",
              "<style scoped>\n",
              "    .dataframe tbody tr th:only-of-type {\n",
              "        vertical-align: middle;\n",
              "    }\n",
              "\n",
              "    .dataframe tbody tr th {\n",
              "        vertical-align: top;\n",
              "    }\n",
              "\n",
              "    .dataframe thead th {\n",
              "        text-align: right;\n",
              "    }\n",
              "</style>\n",
              "<table border=\"1\" class=\"dataframe\">\n",
              "  <thead>\n",
              "    <tr style=\"text-align: right;\">\n",
              "      <th></th>\n",
              "      <th>userName</th>\n",
              "      <th>userImage</th>\n",
              "      <th>content</th>\n",
              "      <th>score</th>\n",
              "      <th>thumbsUpCount</th>\n",
              "      <th>reviewCreatedVersion</th>\n",
              "      <th>at</th>\n",
              "      <th>replyContent</th>\n",
              "      <th>repliedAt</th>\n",
              "      <th>sortOrder</th>\n",
              "      <th>appId</th>\n",
              "      <th>sentiment</th>\n",
              "    </tr>\n",
              "  </thead>\n",
              "  <tbody>\n",
              "    <tr>\n",
              "      <th>0</th>\n",
              "      <td>Andrew Thomas</td>\n",
              "      <td>https://lh3.googleusercontent.com/a-/AOh14GiHd...</td>\n",
              "      <td>Update: After getting a response from the deve...</td>\n",
              "      <td>1</td>\n",
              "      <td>21</td>\n",
              "      <td>4.17.0.3</td>\n",
              "      <td>2020-04-05 22:25:57</td>\n",
              "      <td>According to our TOS, and the term you have ag...</td>\n",
              "      <td>2020-04-05 15:10:24</td>\n",
              "      <td>most_relevant</td>\n",
              "      <td>com.anydo</td>\n",
              "      <td>0</td>\n",
              "    </tr>\n",
              "    <tr>\n",
              "      <th>1</th>\n",
              "      <td>Craig Haines</td>\n",
              "      <td>https://lh3.googleusercontent.com/-hoe0kwSJgPQ...</td>\n",
              "      <td>Used it for a fair amount of time without any ...</td>\n",
              "      <td>1</td>\n",
              "      <td>11</td>\n",
              "      <td>4.17.0.3</td>\n",
              "      <td>2020-04-04 13:40:01</td>\n",
              "      <td>It sounds like you logged in with a different ...</td>\n",
              "      <td>2020-04-05 15:11:35</td>\n",
              "      <td>most_relevant</td>\n",
              "      <td>com.anydo</td>\n",
              "      <td>0</td>\n",
              "    </tr>\n",
              "    <tr>\n",
              "      <th>2</th>\n",
              "      <td>steven adkins</td>\n",
              "      <td>https://lh3.googleusercontent.com/a-/AOh14GiXw...</td>\n",
              "      <td>Your app sucks now!!!!! Used to be good but no...</td>\n",
              "      <td>1</td>\n",
              "      <td>17</td>\n",
              "      <td>4.17.0.3</td>\n",
              "      <td>2020-04-01 16:18:13</td>\n",
              "      <td>This sounds odd! We are not aware of any issue...</td>\n",
              "      <td>2020-04-02 16:05:56</td>\n",
              "      <td>most_relevant</td>\n",
              "      <td>com.anydo</td>\n",
              "      <td>0</td>\n",
              "    </tr>\n",
              "  </tbody>\n",
              "</table>\n",
              "</div>"
            ],
            "text/plain": [
              "        userName  ... sentiment\n",
              "0  Andrew Thomas  ...         0\n",
              "1   Craig Haines  ...         0\n",
              "2  steven adkins  ...         0\n",
              "\n",
              "[3 rows x 12 columns]"
            ]
          },
          "metadata": {
            "tags": []
          },
          "execution_count": 7
        }
      ]
    },
    {
      "cell_type": "code",
      "metadata": {
        "id": "XkRq2PoQKBwU",
        "colab_type": "code",
        "colab": {
          "base_uri": "https://localhost:8080/",
          "height": 361
        },
        "outputId": "3a9711f8-b1e3-4e77-b177-01a5ab5c1675"
      },
      "source": [
        "class_names = ['negative', 'neutral', 'positive']\n",
        "print(df_data.sentiment.value_counts())\n",
        "ax = sns.countplot(df_data.sentiment)\n",
        "ax.set_xticklabels(class_names)\n",
        "plt.rcParams['figure.figsize'] = (4,4)"
      ],
      "execution_count": 8,
      "outputs": [
        {
          "output_type": "stream",
          "text": [
            "2    5676\n",
            "1    5042\n",
            "0    5028\n",
            "Name: sentiment, dtype: int64\n"
          ],
          "name": "stdout"
        },
        {
          "output_type": "display_data",
          "data": {
            "image/png": "[encoded data removed]",
            "text/plain": [
              "<Figure size 432x288 with 1 Axes>"
            ]
          },
          "metadata": {
            "tags": []
          }
        }
      ]
    },
    {
      "cell_type": "markdown",
      "metadata": {
        "id": "LP7uhPK6KBwZ",
        "colab_type": "text"
      },
      "source": [
        "## 6. Train test split "
      ]
    },
    {
      "cell_type": "code",
      "metadata": {
        "id": "wVF89MmkKBwb",
        "colab_type": "code",
        "colab": {
          "base_uri": "https://localhost:8080/",
          "height": 36
        },
        "outputId": "f9f11413-83e8-49be-c588-0e4ef4830edb"
      },
      "source": [
        "train, test = train_test_split(\n",
        "  df_data,\n",
        "  test_size=0.1,\n",
        "  random_state=RANDOM_SEED\n",
        ")\n",
        "\n",
        "val, test = train_test_split(\n",
        "  test,\n",
        "  test_size=0.5,\n",
        "  random_state=RANDOM_SEED\n",
        ")\n",
        "\n",
        "print(f'Train size: {train.shape}, Val size: {val.shape}, Test size: {test.shape}')"
      ],
      "execution_count": 9,
      "outputs": [
        {
          "output_type": "stream",
          "text": [
            "Train size: (14171, 12), Val size: (787, 12), Test size: (788, 12)\n"
          ],
          "name": "stdout"
        }
      ]
    },
    {
      "cell_type": "markdown",
      "metadata": {
        "id": "8GNFqFcqhp2t",
        "colab_type": "text"
      },
      "source": [
        "## 7. Sentiment Classifier: BERT base\n"
      ]
    },
    {
      "cell_type": "code",
      "metadata": {
        "id": "qXnyMf6ihz5Y",
        "colab_type": "code",
        "colab": {}
      },
      "source": [
        "bert = BERT(CLASSES)\n",
        "bert_sentiment_classifier = BERTSentimentClassifier(bert, device)"
      ],
      "execution_count": 10,
      "outputs": []
    },
    {
      "cell_type": "markdown",
      "metadata": {
        "id": "jN4C3ojzKBwf",
        "colab_type": "text"
      },
      "source": [
        "## 8. BERT Format Dataset and Dataloader\n"
      ]
    },
    {
      "cell_type": "code",
      "metadata": {
        "id": "p9sETJi-KBwf",
        "colab_type": "code",
        "colab": {}
      },
      "source": [
        "train_dataset = BERTFormatDataset(train, MAX_LEN)\n",
        "val_dataset = BERTFormatDataset(val, MAX_LEN)\n",
        "test_dataset = BERTFormatDataset(test, MAX_LEN)"
      ],
      "execution_count": 11,
      "outputs": []
    },
    {
      "cell_type": "code",
      "metadata": {
        "id": "MvEl9uX1KBwj",
        "colab_type": "code",
        "colab": {}
      },
      "source": [
        "train_dataloader = BERTFormatDataloader(train_dataset, BATCH_SIZE, n_GPU).getDataloader()\n",
        "val_dataloader = BERTFormatDataloader(val_dataset, BATCH_SIZE, n_GPU).getDataloader()\n",
        "test_dataloader = BERTFormatDataloader(test_dataset, BATCH_SIZE, n_GPU).getDataloader()"
      ],
      "execution_count": 12,
      "outputs": []
    },
    {
      "cell_type": "markdown",
      "metadata": {
        "id": "QxMZqPhgKBwm",
        "colab_type": "text"
      },
      "source": [
        "## 9. Optimizer, Scheduler and Loss function choice \n"
      ]
    },
    {
      "cell_type": "code",
      "metadata": {
        "id": "hkBgTHKlKBwm",
        "colab_type": "code",
        "colab": {}
      },
      "source": [
        "optimizer = AdamW(bert.parameters(), lr=2e-5, correct_bias=False)\n",
        "\n",
        "total_steps = len(train_dataloader) * EPOCHS\n",
        "scheduler = get_linear_schedule_with_warmup(\n",
        "  optimizer,\n",
        "  num_warmup_steps=0,\n",
        "  num_training_steps=total_steps\n",
        ")\n",
        "loss_fn = nn.CrossEntropyLoss().to(device)"
      ],
      "execution_count": 13,
      "outputs": []
    },
    {
      "cell_type": "markdown",
      "metadata": {
        "id": "0aerAm_aKBwq",
        "colab_type": "text"
      },
      "source": [
        "## 10. Training loop\n"
      ]
    },
    {
      "cell_type": "code",
      "metadata": {
        "id": "swBLDCIGKBwu",
        "colab_type": "code",
        "colab": {
          "base_uri": "https://localhost:8080/",
          "height": 1000
        },
        "outputId": "745047ab-3f1a-4bc8-9739-6afcfb721e36"
      },
      "source": [
        "%%time\n",
        "\n",
        "if TRAIN_FLAG:\n",
        "  print(\"Fine-tuning is starting ...\")\n",
        "  name = 'reviews_bert_classifier'\n",
        "  fine_tuner = SentimentFineTuning(optimizer=optimizer, device=device, scheduler=scheduler, loss_fn=loss_fn, len_train=len(train), len_val=len(val))\n",
        "  results = fine_tuner.trainloop(bert_sentiment_classifier, train_dataloader, val_dataloader, EPOCHS, name)\n",
        "\n",
        "else:\n",
        "  print(\"Training flag is disabled, please enable TRAIN_FLAG.\")"
      ],
      "execution_count": 14,
      "outputs": [
        {
          "output_type": "stream",
          "text": [
            "Epoch: 1/10\n",
            "----------\n",
            "Train accuracy: 0.6744054759720556 Train loss: 0.7186506838951907 \n",
            "Val   accuracy: 0.7445997458703939\n",
            "\n",
            "Epoch: 2/10\n",
            "----------\n",
            "Train accuracy: 0.8427069367017148 Train loss: 0.4144331709046598 \n",
            "Val   accuracy: 0.8271918678526049\n",
            "\n",
            "Epoch: 3/10\n",
            "----------\n",
            "Train accuracy: 0.9231529179309859 Train loss: 0.23465395103756373 \n",
            "Val   accuracy: 0.8564167725540026\n",
            "\n",
            "Epoch: 4/10\n",
            "----------\n",
            "Train accuracy: 0.9553313104226943 Train loss: 0.15464776387421358 \n",
            "Val   accuracy: 0.8602287166454893\n",
            "\n",
            "Epoch: 5/10\n",
            "----------\n",
            "Train accuracy: 0.9707148401665373 Train loss: 0.1073948377154717 \n",
            "Val   accuracy: 0.8703939008894537\n",
            "\n",
            "Epoch: 6/10\n",
            "----------\n",
            "Train accuracy: 0.9772069719850399 Train loss: 0.0788137378403917 \n",
            "Val   accuracy: 0.866581956797967\n",
            "\n",
            "Epoch: 7/10\n",
            "----------\n",
            "Train accuracy: 0.9816526709477101 Train loss: 0.06289331224076497 \n",
            "Val   accuracy: 0.8703939008894537\n",
            "\n",
            "Epoch: 8/10\n",
            "----------\n",
            "Train accuracy: 0.9842636370051514 Train loss: 0.05141924313624911 \n",
            "Val   accuracy: 0.8716645489199493\n",
            "\n",
            "Epoch: 9/10\n",
            "----------\n",
            "Train accuracy: 0.9859572366099781 Train loss: 0.04098671048669195 \n",
            "Val   accuracy: 0.8716645489199493\n",
            "\n",
            "Epoch: 10/10\n",
            "----------\n",
            "Train accuracy: 0.987721402865006 Train loss: 0.03463257745771396 \n",
            "Val   accuracy: 0.8754764930114358\n",
            "\n",
            "CPU times: user 39min 50s, sys: 26min 56s, total: 1h 6min 47s\n",
            "Wall time: 1h 7min 28s\n"
          ],
          "name": "stdout"
        }
      ]
    },
    {
      "cell_type": "markdown",
      "metadata": {
        "id": "8FqMGSbtcdgl",
        "colab_type": "text"
      },
      "source": [
        "## 11. Loading model"
      ]
    },
    {
      "cell_type": "code",
      "metadata": {
        "id": "nM4A84kxVmxT",
        "colab_type": "code",
        "colab": {
          "base_uri": "https://localhost:8080/",
          "height": 55
        },
        "outputId": "4a738321-360e-4bd1-b5cd-857b99e39567"
      },
      "source": [
        "if LOAD_MODEL:\n",
        "  print(\"Loading fine-tuned model...\")\n",
        "  fine_tuned_weights = torch.load(MODEL_PATH)\n",
        "  model = BERT(CLASSES)\n",
        "  model.load_state_dict(fine_tuned_weights)\n",
        "  bert_sentiment_classifier = BERTSentimentClassifier(model, device)\n",
        "  print(\"Model has been loaded.\")\n",
        "\n",
        "else:\n",
        "  print(\"LOAD_MODEL flag is disabled.\")"
      ],
      "execution_count": 54,
      "outputs": [
        {
          "output_type": "stream",
          "text": [
            "Loading fine-tuned model...\n",
            "Model has been loaded.\n"
          ],
          "name": "stdout"
        }
      ]
    },
    {
      "cell_type": "markdown",
      "metadata": {
        "id": "AuL3QeBwjlnq",
        "colab_type": "text"
      },
      "source": [
        "## 12. Evaluate on test set"
      ]
    },
    {
      "cell_type": "code",
      "metadata": {
        "id": "KbdqgUjhjsmI",
        "colab_type": "code",
        "colab": {}
      },
      "source": [
        "y_messages, y_pred, y_pred_probs, y_test = bert_sentiment_classifier.predict_results(data_loader=test_dataloader, device=device))\n",
        "print(classification_report(y_test, y_pred, target_names=class_names))"
      ],
      "execution_count": null,
      "outputs": []
    },
    {
      "cell_type": "code",
      "metadata": {
        "id": "BzWR674bpKWH",
        "colab_type": "code",
        "colab": {}
      },
      "source": [
        "def show_confusion_matrix(confusion_matrix):\n",
        "  hmap = sns.heatmap(confusion_matrix, annot=True, fmt=\"d\", cmap=\"Blues\")\n",
        "  hmap.yaxis.set_ticklabels(hmap.yaxis.get_ticklabels(), rotation=0, ha='right')\n",
        "  hmap.xaxis.set_ticklabels(hmap.xaxis.get_ticklabels(), rotation=30, ha='right')\n",
        "  plt.ylabel('True sentiment')\n",
        "  plt.xlabel('Predicted sentiment');\n",
        "  \n",
        "cm = confusion_matrix(y_test, y_pred)\n",
        "df_cm = pd.DataFrame(cm, index=class_names, columns=class_names)\n",
        "show_confusion_matrix(df_cm)"
      ],
      "execution_count": null,
      "outputs": []
    },
    {
      "cell_type": "markdown",
      "metadata": {
        "id": "BddnoclHnsYG",
        "colab_type": "text"
      },
      "source": [
        "## 13. Example of a prediction"
      ]
    },
    {
      "cell_type": "code",
      "metadata": {
        "id": "vhS2kfHpnvOU",
        "colab_type": "code",
        "colab": {}
      },
      "source": [
        "idx = 4\n",
        "message = y_messages[idx]\n",
        "true_sentiment = y_test[idx]\n",
        "pred_df = pd.DataFrame({\n",
        "  'class_names': class_names,\n",
        "  'values': y_pred_probs[idx]\n",
        "})\n",
        "print(\"\\n\".join(wrap(message)))\n",
        "print()\n",
        "print(f'True sentiment: {class_names[true_sentiment]}')"
      ],
      "execution_count": null,
      "outputs": []
    },
    {
      "cell_type": "code",
      "metadata": {
        "id": "Hb5rLi5nn1hT",
        "colab_type": "code",
        "colab": {}
      },
      "source": [
        "sns.barplot(x='values', y='class_names', data=pred_df, orient='h')\n",
        "plt.ylabel('Sentiment')\n",
        "plt.xlabel('Probability')\n",
        "plt.xlim([0, 1]);"
      ],
      "execution_count": null,
      "outputs": []
    },
    {
      "cell_type": "markdown",
      "metadata": {
        "id": "xPUjkBWepS50",
        "colab_type": "text"
      },
      "source": [
        "## 14. References"
      ]
    },
    {
      "cell_type": "markdown",
      "metadata": {
        "id": "OXU2D6iIpVqw",
        "colab_type": "text"
      },
      "source": [
        "- [BERT: Pre-training of Deep Bidirectional Transformers for Language Understanding](https://arxiv.org/abs/1810.04805)\n",
        "\n",
        "- [Sentiment Analysis with BERT and Transformers by Hugging Face using PyTorch and Python](https://www.curiousily.com/posts/sentiment-analysis-with-bert-and-hugging-face-using-pytorch-and-python/#skip-nav)\n",
        "\n",
        "- [Huggingface Transformers](https://huggingface.co/transformers/)\n"
      ]
    }
  ]
}